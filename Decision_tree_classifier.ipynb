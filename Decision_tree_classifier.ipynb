{
 "cells": [
  {
   "cell_type": "markdown",
   "id": "8c30a0b2",
   "metadata": {},
   "source": [
    "# Разберем, как работает самая простая классификация\n",
    "- собственная переработка в более доступной форме этот статьи https://habr.com/ru/post/517556/\n",
    "- https://machinelearningmastery.ru/decision-tree-from-scratch-in-python-46e99dfea775/  #когда-нибудь разберу\n"
   ]
  },
  {
   "cell_type": "code",
   "execution_count": 324,
   "id": "acad6cf6",
   "metadata": {},
   "outputs": [],
   "source": [
    "import math\n",
    "import pandas as pd\n",
    "from functools import reduce\n",
    "\n",
    "# Датасет\n",
    "d = {\n",
    "    \"Погода\":[\"ясно\",\"ясно\",\"облачно\",\"дождь\",\"дождь\",\"дождь\",\"облачно\",\"ясно\",\"ясно\",\"дождь\",\"ясно\",\"облачно\",\"облачно\",\"дождь\"],\n",
    "    \"Температура\":[\"Жарко\",\"Жарко\",\"Жарко\",\"Тепло\",\"Холодно\",\"Холодно\",\"Холодно\",\"Тепло\",\"Холодно\",\"Тепло\",\"Тепло\",\"Тепло\",\"Жарко\",\"Тепло\"], \n",
    "    \"Влажность\":[\"Высокая\",\"Высокая\",\"Высокая\",\"Высокая\",\"Норм\",\"Норм\",\"Норм\",\"Высокая\",\"Норм\",\"Норм\",\"Норм\",\"Высокая\",\"Норм\",\"Высокая\"],\n",
    "    \"Ветер\":[\"Нет\",\"Есть\",\"Нет\",\"Нет\",\"Нет\",\"Есть\",\"Есть\",\"Нет\",\"Нет\",\"Нет\",\"Есть\",\"Есть\",\"Нет\",\"Есть\"],\n",
    "    # Последний массив - это наша целевая переменная, показывающая результат, \n",
    "    # основывающийся на предыдущих данных.\n",
    "    \"Гольф\":[\"×\",\"×\",\"○\",\"○\",\"○\",\"×\",\"○\",\"×\",\"○\",\"○\",\"○\",\"○\",\"○\",\"×\"],\n",
    "}\n",
    "df0 = pd.DataFrame(d)"
   ]
  },
  {
   "cell_type": "code",
   "execution_count": 325,
   "id": "d628e53d",
   "metadata": {},
   "outputs": [
    {
     "data": {
      "text/html": [
       "<div>\n",
       "<style scoped>\n",
       "    .dataframe tbody tr th:only-of-type {\n",
       "        vertical-align: middle;\n",
       "    }\n",
       "\n",
       "    .dataframe tbody tr th {\n",
       "        vertical-align: top;\n",
       "    }\n",
       "\n",
       "    .dataframe thead th {\n",
       "        text-align: right;\n",
       "    }\n",
       "</style>\n",
       "<table border=\"1\" class=\"dataframe\">\n",
       "  <thead>\n",
       "    <tr style=\"text-align: right;\">\n",
       "      <th></th>\n",
       "      <th>Погода</th>\n",
       "      <th>Температура</th>\n",
       "      <th>Влажность</th>\n",
       "      <th>Ветер</th>\n",
       "      <th>Гольф</th>\n",
       "    </tr>\n",
       "  </thead>\n",
       "  <tbody>\n",
       "    <tr>\n",
       "      <th>0</th>\n",
       "      <td>ясно</td>\n",
       "      <td>Жарко</td>\n",
       "      <td>Высокая</td>\n",
       "      <td>Нет</td>\n",
       "      <td>×</td>\n",
       "    </tr>\n",
       "    <tr>\n",
       "      <th>1</th>\n",
       "      <td>ясно</td>\n",
       "      <td>Жарко</td>\n",
       "      <td>Высокая</td>\n",
       "      <td>Есть</td>\n",
       "      <td>×</td>\n",
       "    </tr>\n",
       "    <tr>\n",
       "      <th>2</th>\n",
       "      <td>облачно</td>\n",
       "      <td>Жарко</td>\n",
       "      <td>Высокая</td>\n",
       "      <td>Нет</td>\n",
       "      <td>○</td>\n",
       "    </tr>\n",
       "    <tr>\n",
       "      <th>3</th>\n",
       "      <td>дождь</td>\n",
       "      <td>Тепло</td>\n",
       "      <td>Высокая</td>\n",
       "      <td>Нет</td>\n",
       "      <td>○</td>\n",
       "    </tr>\n",
       "    <tr>\n",
       "      <th>4</th>\n",
       "      <td>дождь</td>\n",
       "      <td>Холодно</td>\n",
       "      <td>Норм</td>\n",
       "      <td>Нет</td>\n",
       "      <td>○</td>\n",
       "    </tr>\n",
       "    <tr>\n",
       "      <th>5</th>\n",
       "      <td>дождь</td>\n",
       "      <td>Холодно</td>\n",
       "      <td>Норм</td>\n",
       "      <td>Есть</td>\n",
       "      <td>×</td>\n",
       "    </tr>\n",
       "    <tr>\n",
       "      <th>6</th>\n",
       "      <td>облачно</td>\n",
       "      <td>Холодно</td>\n",
       "      <td>Норм</td>\n",
       "      <td>Есть</td>\n",
       "      <td>○</td>\n",
       "    </tr>\n",
       "    <tr>\n",
       "      <th>7</th>\n",
       "      <td>ясно</td>\n",
       "      <td>Тепло</td>\n",
       "      <td>Высокая</td>\n",
       "      <td>Нет</td>\n",
       "      <td>×</td>\n",
       "    </tr>\n",
       "    <tr>\n",
       "      <th>8</th>\n",
       "      <td>ясно</td>\n",
       "      <td>Холодно</td>\n",
       "      <td>Норм</td>\n",
       "      <td>Нет</td>\n",
       "      <td>○</td>\n",
       "    </tr>\n",
       "    <tr>\n",
       "      <th>9</th>\n",
       "      <td>дождь</td>\n",
       "      <td>Тепло</td>\n",
       "      <td>Норм</td>\n",
       "      <td>Нет</td>\n",
       "      <td>○</td>\n",
       "    </tr>\n",
       "    <tr>\n",
       "      <th>10</th>\n",
       "      <td>ясно</td>\n",
       "      <td>Тепло</td>\n",
       "      <td>Норм</td>\n",
       "      <td>Есть</td>\n",
       "      <td>○</td>\n",
       "    </tr>\n",
       "    <tr>\n",
       "      <th>11</th>\n",
       "      <td>облачно</td>\n",
       "      <td>Тепло</td>\n",
       "      <td>Высокая</td>\n",
       "      <td>Есть</td>\n",
       "      <td>○</td>\n",
       "    </tr>\n",
       "    <tr>\n",
       "      <th>12</th>\n",
       "      <td>облачно</td>\n",
       "      <td>Жарко</td>\n",
       "      <td>Норм</td>\n",
       "      <td>Нет</td>\n",
       "      <td>○</td>\n",
       "    </tr>\n",
       "    <tr>\n",
       "      <th>13</th>\n",
       "      <td>дождь</td>\n",
       "      <td>Тепло</td>\n",
       "      <td>Высокая</td>\n",
       "      <td>Есть</td>\n",
       "      <td>×</td>\n",
       "    </tr>\n",
       "  </tbody>\n",
       "</table>\n",
       "</div>"
      ],
      "text/plain": [
       "     Погода Температура Влажность Ветер Гольф\n",
       "0      ясно       Жарко   Высокая   Нет     ×\n",
       "1      ясно       Жарко   Высокая  Есть     ×\n",
       "2   облачно       Жарко   Высокая   Нет     ○\n",
       "3     дождь       Тепло   Высокая   Нет     ○\n",
       "4     дождь     Холодно      Норм   Нет     ○\n",
       "5     дождь     Холодно      Норм  Есть     ×\n",
       "6   облачно     Холодно      Норм  Есть     ○\n",
       "7      ясно       Тепло   Высокая   Нет     ×\n",
       "8      ясно     Холодно      Норм   Нет     ○\n",
       "9     дождь       Тепло      Норм   Нет     ○\n",
       "10     ясно       Тепло      Норм  Есть     ○\n",
       "11  облачно       Тепло   Высокая  Есть     ○\n",
       "12  облачно       Жарко      Норм   Нет     ○\n",
       "13    дождь       Тепло   Высокая  Есть     ×"
      ]
     },
     "execution_count": 325,
     "metadata": {},
     "output_type": "execute_result"
    }
   ],
   "source": [
    "df0"
   ]
  },
  {
   "cell_type": "markdown",
   "id": "7dc5a86d",
   "metadata": {},
   "source": [
    "### Создадим словарь с первым уровнем классификатора\n",
    "Следующие уровни будем добавлять в список \"edges\""
   ]
  },
  {
   "cell_type": "code",
   "execution_count": 326,
   "id": "776b1610",
   "metadata": {},
   "outputs": [],
   "source": [
    "tree = {\n",
    "    # name: Название этого нода (узла)\n",
    "    \"name\":\"decision tree \"+df0.columns[-1],\n",
    "    # df: Данные, связанные с этим нодом (узлом)\n",
    "    \"df\":df0,\n",
    "    # edges: Список ребер (ветвей), выходящих из этого узла, \n",
    "    # или пустой массив, если ниже нет листового узла.\n",
    "    \"edges\":[],\n",
    "}"
   ]
  },
  {
   "cell_type": "code",
   "execution_count": 327,
   "id": "30226294",
   "metadata": {},
   "outputs": [
    {
     "data": {
      "text/plain": [
       "{'name': 'decision tree Гольф',\n",
       " 'df':      Погода Температура Влажность Ветер Гольф\n",
       " 0      ясно       Жарко   Высокая   Нет     ×\n",
       " 1      ясно       Жарко   Высокая  Есть     ×\n",
       " 2   облачно       Жарко   Высокая   Нет     ○\n",
       " 3     дождь       Тепло   Высокая   Нет     ○\n",
       " 4     дождь     Холодно      Норм   Нет     ○\n",
       " 5     дождь     Холодно      Норм  Есть     ×\n",
       " 6   облачно     Холодно      Норм  Есть     ○\n",
       " 7      ясно       Тепло   Высокая   Нет     ×\n",
       " 8      ясно     Холодно      Норм   Нет     ○\n",
       " 9     дождь       Тепло      Норм   Нет     ○\n",
       " 10     ясно       Тепло      Норм  Есть     ○\n",
       " 11  облачно       Тепло   Высокая  Есть     ○\n",
       " 12  облачно       Жарко      Норм   Нет     ○\n",
       " 13    дождь       Тепло   Высокая  Есть     ×,\n",
       " 'edges': []}"
      ]
     },
     "execution_count": 327,
     "metadata": {},
     "output_type": "execute_result"
    }
   ],
   "source": [
    "tree"
   ]
  },
  {
   "cell_type": "markdown",
   "id": "8e4624af",
   "metadata": {},
   "source": [
    "### Считаем энтропию\n",
    "Напишем функцию, вычисляющую энтропию, для объекта Series (Shannon entropy):"
   ]
  },
  {
   "attachments": {
    "0%20DkWdyGidNSfdT1Nu.png": {
     "image/png": "[encoded data removed]"
    }
   },
   "cell_type": "markdown",
   "id": "afdf9bc0",
   "metadata": {},
   "source": [
    "![0%20DkWdyGidNSfdT1Nu.png](attachment:0%20DkWdyGidNSfdT1Nu.png)"
   ]
  },
  {
   "cell_type": "code",
   "execution_count": 328,
   "id": "1ca9afea",
   "metadata": {},
   "outputs": [],
   "source": [
    "entropy = lambda s:-reduce(lambda x,y:x+y,map(lambda x:(x/len(s))*math.log2(x/len(s)),s.value_counts()))"
   ]
  },
  {
   "cell_type": "code",
   "execution_count": 329,
   "id": "2a72c747",
   "metadata": {},
   "outputs": [
    {
     "data": {
      "text/plain": [
       "0.9402859586706311"
      ]
     },
     "execution_count": 329,
     "metadata": {},
     "output_type": "execute_result"
    }
   ],
   "source": [
    "entropy(df0['Гольф']) # энтропия для нашего датафрейма"
   ]
  },
  {
   "cell_type": "markdown",
   "id": "48df1dbf",
   "metadata": {},
   "source": [
    "### Анализ узла, поиск оптимального разбиения"
   ]
  },
  {
   "cell_type": "code",
   "execution_count": 330,
   "id": "f9744554",
   "metadata": {},
   "outputs": [],
   "source": [
    "# список 'open' нужен для того, чтобы добавлять туда наш узел\n",
    "# первым узлом будет все дерево tree\n",
    "# затем методом 'pop' мы вытащим этот узел из списка (список станет пустым) и потом добавим в него низостоящие узлы\n",
    "# узлов следующего уровня будет больше чем 1 (в зависимости от количества уникальных значений в признаке set(df_n[attr]))\n",
    "# образованные при разбиении признака с наименьшей энтропией\n",
    "open = [tree]"
   ]
  },
  {
   "cell_type": "code",
   "execution_count": 331,
   "id": "986771c3",
   "metadata": {},
   "outputs": [],
   "source": [
    "n = open.pop(0) #n = tree, open = []\n",
    "df_n = n[\"df\"] # df_n - наш первоначальный датафрейм"
   ]
  },
  {
   "cell_type": "code",
   "execution_count": 332,
   "id": "6d80a364",
   "metadata": {},
   "outputs": [],
   "source": [
    "attrs = {}"
   ]
  },
  {
   "cell_type": "code",
   "execution_count": 333,
   "id": "8c88352c",
   "metadata": {},
   "outputs": [],
   "source": [
    "# в цикле мы оцениваем каждый узел, вытащенный из 'open' (полный код в самом низу)\n",
    "#Если у него энтропия=0 (все значения таргета одинаковые)\n",
    "# то нам нет смысла разбивать узел дальше, мы возвращается к условию while\n",
    "#n = open.pop(0)\n",
    "#df_n = n[\"df\"]\n",
    "# if 0==entropy(df_n.iloc[:,-1]):\n",
    "# continue\n",
    "for attr in df_n.columns[:-1]:\n",
    "    attrs[attr] = {\"entropy\":0,\"dfs\":[],\"values\":[]} # создаем пустой словарь словарей\n",
    "    for value in sorted(set(df_n[attr])):\n",
    "        df_m = df_n.query(attr+'==@value') #фильтруем датасеты по value, т.е. df['Погода'] == 'дождь'\n",
    "        attrs[attr][\"entropy\"] += entropy(df_m.iloc[:,-1])*df_m.shape[0]/df_n.shape[0] # складываем энтропии с учетом \n",
    "        #соотношения отфильтрованной по value df к df_n - первоначальному датафрейму\n",
    "        attrs[attr][\"dfs\"] += [df_m]\n",
    "        attrs[attr][\"values\"] += [value]"
   ]
  },
  {
   "cell_type": "code",
   "execution_count": 334,
   "id": "0b202a85",
   "metadata": {},
   "outputs": [
    {
     "name": "stdout",
     "output_type": "stream",
     "text": [
      "Погода 0.6935361388961919\n",
      "Температура 0.9110633930116763\n",
      "Влажность 0.7884504573082896\n",
      "Ветер 0.8921589282623617\n"
     ]
    }
   ],
   "source": [
    "for key, item in attrs.items():\n",
    "    print(key, item['entropy']) # перечень колонок df их энтропии. Минимальная - 'Погода'\n",
    "# можно отметить, что энтропия при лучшем разбиении существенно снизилась: была 0.94, стала - 0.69"
   ]
  },
  {
   "cell_type": "code",
   "execution_count": 335,
   "id": "c57b156e",
   "metadata": {},
   "outputs": [],
   "source": [
    "attr = min(attrs,key=lambda x:attrs[x][\"entropy\"]) # Минимальная сумма энтропий - 'Погода' \n",
    "#(оптимальное деление по этой колонке)"
   ]
  },
  {
   "cell_type": "markdown",
   "id": "1cd5776c",
   "metadata": {},
   "source": [
    "### Формируем новые узлы исходя из деления по оптимальному признаку (колонке)\n",
    "- Добавляем узлы в список \"edges\" словаря tree\n",
    "- Добавляем узлы в список 'open' для их дальшейшего анализа и разбиения на нижестоящие узлы\n",
    "- При формировании узлов, из df удаляем признак, по которому они были образованы (d.drop(columns=attr))"
   ]
  },
  {
   "cell_type": "code",
   "execution_count": 336,
   "id": "da4acdd5",
   "metadata": {},
   "outputs": [],
   "source": [
    "for d,v in zip(attrs[attr][\"dfs\"], attrs[attr][\"values\"]): # выбираем из словаря список с отфильтрованными датафреймами\n",
    "    # и список со значениями, по которым фильтовали\n",
    "    m = {\"name\":attr+\"=\"+v,\"df\":d.drop(columns=attr), \"edges\":[]} # m = Погода+v(Value) + отфильтрованный датафрейм без \n",
    "    # колонки 'Погода' - по ней уже отработали\n",
    "    n[\"edges\"].append(m) # добавляем в n[\"edges\"] (а по факту в tree[\"edges\"]) новые словари (узлы) аналогичной структуры\n",
    "    # что и в изначальном tree\n",
    "    open.append(m) # добавляем в open новые узлы, в случае с 'Погодой' - 3 шт."
   ]
  },
  {
   "cell_type": "code",
   "execution_count": 337,
   "id": "fc88b5f6",
   "metadata": {},
   "outputs": [
    {
     "name": "stdout",
     "output_type": "stream",
     "text": [
      "Узел: Погода=дождь\n",
      "Датафрейм:\n",
      "   Температура Влажность Ветер Гольф\n",
      "3        Тепло   Высокая   Нет     ○\n",
      "4      Холодно      Норм   Нет     ○\n",
      "5      Холодно      Норм  Есть     ×\n",
      "9        Тепло      Норм   Нет     ○\n",
      "13       Тепло   Высокая  Есть     ×\n",
      "Список для следующих узлов: []\n",
      "----------------------------------------\n",
      "Узел: Погода=облачно\n",
      "Датафрейм:\n",
      "   Температура Влажность Ветер Гольф\n",
      "2        Жарко   Высокая   Нет     ○\n",
      "6      Холодно      Норм  Есть     ○\n",
      "11       Тепло   Высокая  Есть     ○\n",
      "12       Жарко      Норм   Нет     ○\n",
      "Список для следующих узлов: []\n",
      "----------------------------------------\n",
      "Узел: Погода=ясно\n",
      "Датафрейм:\n",
      "   Температура Влажность Ветер Гольф\n",
      "0        Жарко   Высокая   Нет     ×\n",
      "1        Жарко   Высокая  Есть     ×\n",
      "7        Тепло   Высокая   Нет     ×\n",
      "8      Холодно      Норм   Нет     ○\n",
      "10       Тепло      Норм  Есть     ○\n",
      "Список для следующих узлов: []\n",
      "----------------------------------------\n"
     ]
    }
   ],
   "source": [
    "# в tree'edges' появились три словаря при разбиении по колонке с меньшей энтропией (Погода)\n",
    "# и в этих словарях появились свои списки 'edges' (пока пустые), куда после анализа будут добавляться следующие узлы\n",
    "for index in range(len(tree['edges'])):\n",
    "    print('Узел:', tree['edges'][index]['name'])\n",
    "    print('Датафрейм:')\n",
    "    print(tree['edges'][index]['df'])\n",
    "    print('Список для следующих узлов:', tree['edges'][index]['edges'])\n",
    "    print('-'*40)"
   ]
  },
  {
   "cell_type": "markdown",
   "id": "055dff57",
   "metadata": {},
   "source": [
    "### Визуализация Decision Tree"
   ]
  },
  {
   "cell_type": "code",
   "execution_count": 338,
   "id": "d59c9609",
   "metadata": {},
   "outputs": [],
   "source": [
    "# эта строчка нужна для названия нашего классификатора (количество 'o' и 'x' в таргете)\n",
    "cstr = lambda s:[k+\":\"+str(v) for k,v in sorted(s.value_counts().items())]"
   ]
  },
  {
   "cell_type": "code",
   "execution_count": 339,
   "id": "338b5967",
   "metadata": {},
   "outputs": [
    {
     "data": {
      "text/plain": [
       "[('×', 5), ('○', 9)]"
      ]
     },
     "execution_count": 339,
     "metadata": {},
     "output_type": "execute_result"
    }
   ],
   "source": [
    "sorted(df0['Гольф'].value_counts().items()) # pandas.Series.items / + можно вытащать значения через цикл"
   ]
  },
  {
   "cell_type": "code",
   "execution_count": 340,
   "id": "a1be1f1d",
   "metadata": {},
   "outputs": [],
   "source": [
    "def tstr(tree,indent=\"\"):\n",
    "    # Создаем символьное представление этого узла.\n",
    "    # Если этот узел является листовым узлом (количество элементов в массиве ребер равно 0), \n",
    "    # частотное распределение последнего столбца данных df, связанных с деревом, преобразуется в символы.\n",
    "    s = indent+tree[\"name\"]+str(cstr(tree[\"df\"].iloc[:,-1])) +\"\\n\"\n",
    "    #indent - это отступ для структуры\n",
    "    # Зацикливаем все ветви этого узла.\n",
    "    for e in tree[\"edges\"]:\n",
    "        # Добавляем символьное представление дочернего узла к символьному представлению родительского узла.\n",
    "        # Добавляем еще больше символов к indent этого узла.\n",
    "        s += tstr(e,indent+\"---\")\n",
    "        pass\n",
    "    return s"
   ]
  },
  {
   "cell_type": "code",
   "execution_count": 341,
   "id": "7d0838ac",
   "metadata": {},
   "outputs": [
    {
     "name": "stdout",
     "output_type": "stream",
     "text": [
      "decision tree Гольф['×:5', '○:9']\n",
      "---Погода=дождь['×:2', '○:3']\n",
      "---Погода=облачно['○:4']\n",
      "---Погода=ясно['×:3', '○:2']\n",
      "\n"
     ]
    }
   ],
   "source": [
    "print(tstr(tree))"
   ]
  },
  {
   "cell_type": "markdown",
   "id": "156551a7",
   "metadata": {},
   "source": [
    "Можно отметить, что узел 'Погода=облачно' дальше разветвляться уже не будет, т.е. энтропия в этом узле будет равна нулю."
   ]
  },
  {
   "cell_type": "markdown",
   "id": "92776a76",
   "metadata": {},
   "source": [
    "### Здесь приведен полный код, те же действия, что мы проделали на первой уровне, но до исчерпания всех колонок. \n",
    "Тут его не запускаем, т.к. теряем в наглядности, если хотим изучить tree"
   ]
  },
  {
   "cell_type": "raw",
   "id": "1e38bd93",
   "metadata": {},
   "source": [
    "# Зацикливаем, пока open не станет пустым\n",
    "while(len(open)!=0):\n",
    "    # Вытаскиваем из массива open первый элемент,\n",
    "    # и вытаскиваем данные, хранящиеся в этом узле\n",
    "    n = open.pop(0)\n",
    "    df_n = n[\"df\"]\n",
    "\n",
    "    # В случае, если энтропия этого узла равна 0, мы больше не можем вырастить из него новые ветви\n",
    "    # поэтому прекращаем ветвление от этого узла\n",
    "    if 0==entropy(df_n.iloc[:,-1]):\n",
    "        continue\n",
    "    # Создаем переменную, в которую будем сохранять список значений атрибута с возможностью разветвления\n",
    "    attrs = {}\n",
    "    # Исследуем все атрибуты, кроме последнего столбца класса атрибутов\n",
    "    for attr in df_n.columns[:-1]:\n",
    "        # Создаем переменную, которая хранит значение энтропии при ветвлении с этим атрибутом,\n",
    "        # данные после разветвления и значение атрибута, который разветвляется.\n",
    "        attrs[attr] = {\"entropy\":0,\"dfs\":[],\"values\":[]}\n",
    "        # Исследуем все возможные значения этого атрибута. \n",
    "        # Кроме того, sorted предназначен для предотвращения изменения порядка массива, \n",
    "        # из которого были удалены повторяющиеся значения атрибутов, при каждом его выполнении.\n",
    "        for value in sorted(set(df_n[attr])):\n",
    "            # Фильтруем данные по значению атрибута\n",
    "            df_m = df_n.query(attr+'==@value') \n",
    "            # Высчитываем энтропию, данные и значения сохрнаяем\n",
    "            attrs[attr][\"entropy\"] += entropy(df_m.iloc[:,-1])*df_m.shape[0]/df_n.shape[0]\n",
    "            attrs[attr][\"dfs\"] += [df_m]\n",
    "            attrs[attr][\"values\"] += [value]\n",
    "            pass\n",
    "        pass\n",
    "    # Если не осталось ни одного атрибута, значение которого можно разделить, \n",
    "    # прерываем исследование этого узла.\n",
    "    if len(attrs)==0:\n",
    "        continue\n",
    "    # Получаем атрибут с наименьшим значением энтропии\n",
    "    attr = min(attrs,key=lambda x:attrs[x][\"entropy\"])\n",
    "    # Добавляем каждое значение разветвленного атрибута\n",
    "    # и данные, полученные после разветвления, в наше дерево и в open.\n",
    "    for d,v in zip(attrs[attr][\"dfs\"],attrs[attr][\"values\"]):\n",
    "        m = {\"name\":attr+\"=\"+v,\"edges\":[],\"df\":d.drop(columns=attr)}\n",
    "        n[\"edges\"].append(m)\n",
    "        open.append(m)\n",
    "    pass"
   ]
  }
 ],
 "metadata": {
  "kernelspec": {
   "display_name": "Python 3 (ipykernel)",
   "language": "python",
   "name": "python3"
  },
  "language_info": {
   "codemirror_mode": {
    "name": "ipython",
    "version": 3
   },
   "file_extension": ".py",
   "mimetype": "text/x-python",
   "name": "python",
   "nbconvert_exporter": "python",
   "pygments_lexer": "ipython3",
   "version": "3.9.7"
  },
  "toc": {
   "base_numbering": 1,
   "nav_menu": {},
   "number_sections": true,
   "sideBar": true,
   "skip_h1_title": true,
   "title_cell": "Table of Contents",
   "title_sidebar": "Contents",
   "toc_cell": false,
   "toc_position": {},
   "toc_section_display": true,
   "toc_window_display": false
  }
 },
 "nbformat": 4,
 "nbformat_minor": 5
}
